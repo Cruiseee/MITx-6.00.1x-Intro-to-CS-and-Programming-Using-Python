{
 "cells": [
  {
   "cell_type": "markdown",
   "metadata": {},
   "source": [
    "### Exercise: guess my number\n",
    "\n",
    "In this problem, you'll create a program that guesses a secret number!\n",
    "\n",
    "The program works as follows: you (the user) thinks of an integer between 0 (inclusive) and 100 (not inclusive). The computer makes guesses, and you give it input - is its guess too high or too low? Using bisection search, the computer will guess the user's secret number!"
   ]
  },
  {
   "cell_type": "code",
   "execution_count": 3,
   "metadata": {},
   "outputs": [
    {
     "name": "stdout",
     "output_type": "stream",
     "text": [
      "Please think of a number between 0 and 100!\n",
      "Is your secret number 50?\n",
      "Enter 'h' to indicate the guess is too high. Enter 'l' to indicate the guess is too low. Enter 'c' to indicate I guessed correctly. 'c'\n",
      "Game over. Your secret number was: 50\n"
     ]
    }
   ],
   "source": [
    "print(\"Please think of a number between 0 and 100!\")\n",
    "\n",
    "# At the start the highest the number could be is 100 and the lowest is 0.\n",
    "hi = 100\n",
    "lo = 0\n",
    "guessed = False\n",
    "\n",
    "# Loop until we guess it correctly\n",
    "while not guessed:\n",
    "    guess = (hi + lo)//2\n",
    "    print(\"Is your secret number \" + str(guess)+ \"?\")\n",
    "    user_inp = input(\"Enter 'h' to indicate the guess is too high. Enter 'l' to indicate the guess is too low. Enter 'c' to indicate I guessed correctly. \")\n",
    "\n",
    "    if user_inp == 'c':\n",
    "        guessed = True\n",
    "    elif user_inp == 'h':\n",
    "        hi = guess\n",
    "    elif user_inp == 'l':\n",
    "        lo = guess\n",
    "    else:\n",
    "        print(\"Sorry, I did not understand your input.\")\n",
    "\n",
    "print('Game over. Your secret number was: ' + str(guess))"
   ]
  },
  {
   "cell_type": "markdown",
   "metadata": {},
   "source": [
    "### Exercise: power recur\n",
    "\n",
    "Write a function recurPower(base, exp) which computes  by recursively calling itself to solve a smaller version of the same problem, and then multiplying the result by base to solve the initial problem.\n",
    "\n",
    "This function should take in two values - base can be a float or an integer; exp will be an integer . It should return one numerical value. Your code must be recursive - use of the ** operator or looping constructs is not allowed."
   ]
  },
  {
   "cell_type": "code",
   "execution_count": null,
   "metadata": {
    "collapsed": true
   },
   "outputs": [],
   "source": [
    "def recurPower(base, exp):\n",
    "    '''\n",
    "    base: int or float.\n",
    "    exp: int >= 0\n",
    " \n",
    "    returns: int or float, base^exp\n",
    "    '''\n",
    "    # Your code here\n",
    "    if exp == 0:\n",
    "        return 1\n",
    "    else:\n",
    "        return (base * recurPower(base,exp-1))"
   ]
  },
  {
   "cell_type": "markdown",
   "metadata": {},
   "source": [
    "### Exercise: gcd iter\n",
    "\n",
    "The greatest common divisor of two positive integers is the largest integer that divides each of them without remainder. For example,\n",
    "\n",
    "- gcd(2, 12) = 2\n",
    "- gcd(6, 12) = 6\n",
    "- gcd(9, 12) = 3\n",
    "- gcd(17, 12) = 1\n",
    "\n",
    "Write an iterative function, gcdIter(a, b), that implements this idea. One easy way to do this is to begin with a test value equal to the smaller of the two input arguments, and iteratively reduce this test value by 1 until you either reach a case where the test divides both a and b without remainder, or you reach 1."
   ]
  },
  {
   "cell_type": "code",
   "execution_count": null,
   "metadata": {
    "collapsed": true
   },
   "outputs": [],
   "source": [
    "def gcdIter(a, b):\n",
    "    '''\n",
    "    a, b: positive integers\n",
    "    \n",
    "    returns: a positive integer, the greatest common divisor of a & b.\n",
    "    '''\n",
    "    # Your code here\n",
    "    for i in reversed(range(1,max(a,b)+1)):\n",
    "        if a%i == 0 and b%i == 0:\n",
    "            return i\n",
    "        else:\n",
    "            i = i - 1"
   ]
  },
  {
   "cell_type": "markdown",
   "metadata": {},
   "source": [
    "### Exercise: gcd recur\n",
    "\n",
    "The greatest common divisor of two positive integers is the largest integer that divides each of them without remainder. For example,\n",
    "\n",
    "- gcd(2, 12) = 2\n",
    "- gcd(6, 12) = 6\n",
    "- gcd(9, 12) = 3\n",
    "- gcd(17, 12) = 1\n",
    "\n",
    "A clever mathematical trick (due to Euclid) makes it easy to find greatest common divisors. Suppose that a and b are two positive integers:\n",
    "\n",
    "- If b = 0, then the answer is a\n",
    "- Otherwise, gcd(a, b) is the same as gcd(b, a % b)\n",
    "\n",
    "Write a function gcdRecur(a, b) that implements this idea recursively. This function takes in two positive integers and returns one integer."
   ]
  },
  {
   "cell_type": "code",
   "execution_count": null,
   "metadata": {
    "collapsed": true
   },
   "outputs": [],
   "source": [
    "def gcdRecur(a, b):\n",
    "    '''\n",
    "    a, b: positive integers\n",
    "    \n",
    "    returns: a positive integer, the greatest common divisor of a & b.\n",
    "    '''\n",
    "    # Your code here\n",
    "    if a == 0 or b == 0:\n",
    "        return max(a,b)\n",
    "    else:\n",
    "        return gcdRecur(b,a%b)\n"
   ]
  },
  {
   "cell_type": "markdown",
   "metadata": {},
   "source": [
    "### Exercise: is in\n",
    "\n",
    "We can use the idea of bisection search to determine if a character is in a string, so long as the string is sorted in alphabetical order.\n",
    "\n",
    "First, test the middle character of a string against the character you're looking for (the \"test character\"). If they are the same, we are done - we've found the character we're looking for!\n",
    "\n",
    "If they're not the same, check if the test character is \"smaller\" than the middle character. If so, we need only consider the lower half of the string; otherwise, we only consider the upper half of the string. (Note that you can compare characters using Python's < function.)\n",
    "\n",
    "Implement the function isIn(char, aStr) which implements the above idea recursively to test if char is in aStr. char will be a single character and aStr will be a string that is in alphabetical order. The function should return a boolean value."
   ]
  },
  {
   "cell_type": "code",
   "execution_count": null,
   "metadata": {
    "collapsed": true
   },
   "outputs": [],
   "source": [
    "def isIn(char, aStr):\n",
    "    '''\n",
    "    char: a single character\n",
    "    aStr: an alphabetized string\n",
    "    \n",
    "    returns: True if char is in aStr; False otherwise\n",
    "    '''\n",
    "    # Your code here\n",
    "    if len(aStr) <= 1:\n",
    "        return char == aStr\n",
    "    elif char == aStr[len(aStr)//2]:\n",
    "        return True\n",
    "    elif char > aStr[len(aStr)//2]:\n",
    "        return isIn(char,aStr[len(aStr)//2:len(aStr)])\n",
    "    else:\n",
    "        return isIn(char,aStr[0:len(aStr)//2])  "
   ]
  },
  {
   "cell_type": "markdown",
   "metadata": {},
   "source": [
    "### Tower of Hanoi"
   ]
  },
  {
   "cell_type": "code",
   "execution_count": 11,
   "metadata": {},
   "outputs": [
    {
     "name": "stdout",
     "output_type": "stream",
     "text": [
      "move from a to c\n",
      "move from a to b\n",
      "move from c to b\n",
      "move from a to c\n",
      "move from b to a\n",
      "move from b to c\n",
      "move from a to c\n",
      "move from a to b\n",
      "move from c to b\n",
      "move from c to a\n",
      "move from b to a\n",
      "move from c to b\n",
      "move from a to c\n",
      "move from a to b\n",
      "move from c to b\n"
     ]
    }
   ],
   "source": [
    "def printMove(fr, to):\n",
    "    print('move from ' + str(fr) + ' to ' + str(to))\n",
    "\n",
    "def towers(n, fr, to, spare):\n",
    "    if n == 1:\n",
    "        printMove(fr, to)\n",
    "    else:\n",
    "        towers(n-1,fr,spare,to)\n",
    "        towers(1,fr,to,spare)\n",
    "        towers(n-1,spare,to,fr)\n",
    "\n",
    "towers(4,'a','b','c')"
   ]
  },
  {
   "cell_type": "markdown",
   "metadata": {},
   "source": [
    "### Problem 1 - Paying Debt off in a Year\n",
    "\n",
    "Write a program to calculate the credit card balance after one year if a person only pays the minimum monthly payment required by the credit card company each month.\n",
    "\n",
    "The following variables contain values as described below:\n",
    "\n",
    "- balance - the outstanding balance on the credit card\n",
    "- annualInterestRate - annual interest rate as a decimal\n",
    "- monthlyPaymentRate - minimum monthly payment rate as a decimal\n",
    "\n",
    "For each month, calculate statements on the monthly payment and remaining balance. At the end of 12 months, print out the remaining balance.\n",
    "So your program only prints out one thing: the remaining balance at the end of the year in the format:\n",
    "\n",
    "Remaining balance: 4784.0\n",
    "A summary of the required math is found below:\n",
    "\n",
    "- Monthly interest rate= (Annual interest rate) / 12.0\n",
    "- Minimum monthly payment = (Minimum monthly payment rate) x (Previous balance)\n",
    "- Monthly unpaid balance = (Previous balance) - (Minimum monthly payment)\n",
    "- Updated balance each month = (Monthly unpaid balance) + (Monthly interest rate x Monthly unpaid balance)"
   ]
  },
  {
   "cell_type": "code",
   "execution_count": 17,
   "metadata": {},
   "outputs": [
    {
     "name": "stdout",
     "output_type": "stream",
     "text": [
      "Month 1 Remaining balance: 999.93\n",
      "Month 2 Remaining balance: 999.86\n",
      "Month 3 Remaining balance: 999.79\n",
      "Month 4 Remaining balance: 999.72\n",
      "Month 5 Remaining balance: 999.65\n",
      "Month 6 Remaining balance: 999.58\n",
      "Month 7 Remaining balance: 999.51\n",
      "Month 8 Remaining balance: 999.44\n",
      "Month 9 Remaining balance: 999.38\n",
      "Month 10 Remaining balance: 999.31\n",
      "Month 11 Remaining balance: 999.24\n",
      "Month 12 Remaining balance: 999.17\n",
      "Remaining balance: 999.17\n"
     ]
    }
   ],
   "source": [
    "balance = 1000\n",
    "annualInterestRate = 0.1\n",
    "monthlyPaymentRate = annualInterestRate/12.0\n",
    "\n",
    "for i in range(1,13):\n",
    "    balance = (balance - balance*monthlyPaymentRate)+annualInterestRate/12*(balance - balance*monthlyPaymentRate)\n",
    "    print 'Month '+ str(i) +' Remaining balance: ' + str(round(balance,2))\n",
    "print (\"Remaining balance: \" + str(round(balance,2)))"
   ]
  },
  {
   "cell_type": "markdown",
   "metadata": {},
   "source": [
    "### Problem 2 - Paying Debt Off in a Year\n",
    "\n",
    "Now write a program that calculates the minimum fixed monthly payment needed in order pay off a credit card balance within 12 months. By a fixed monthly payment, we mean a single number which does not change each month, but instead is a constant amount that will be paid each month.\n",
    "\n",
    "In this problem, we will not be dealing with a minimum monthly payment rate.\n",
    "\n",
    "The following variables contain values as described below:\n",
    "\n",
    "- balance - the outstanding balance on the credit card\n",
    "- annualInterestRate - annual interest rate as a decimal\n",
    "\n",
    "The program should print out one line: the lowest monthly payment that will pay off all debt in under 1 year, for example:\n",
    "\n",
    "- Lowest Payment: 180 \n",
    "\n",
    "Assume that the interest is compounded monthly according to the balance at the end of the month (after the payment for that month is made). The monthly payment must be a multiple of $10 and is the same for all months. Notice that it is possible for the balance to become negative using this payment scheme, which is okay. A summary of the required math is found below:\n",
    "\n",
    "- Monthly interest rate = (Annual interest rate) / 12.0\n",
    "- Monthly unpaid balance = (Previous balance) - (Minimum fixed monthly - payment)\n",
    "- Updated balance each month = (Monthly unpaid balance) + (Monthly interest rate x Monthly unpaid balance)"
   ]
  },
  {
   "cell_type": "code",
   "execution_count": 19,
   "metadata": {},
   "outputs": [
    {
     "name": "stdout",
     "output_type": "stream",
     "text": [
      "Lowest Payment: 90\n"
     ]
    }
   ],
   "source": [
    "balance2 = balance\n",
    "mp = 0\n",
    "while balance2 > 0.001:\n",
    "    balance2 = balance\n",
    "    mp += 10\n",
    "    for i in range(1,13):\n",
    "        balance2 = (balance2 - mp)+annualInterestRate/12*(balance2 - mp)\n",
    "print ('Lowest Payment: ' + str(mp))"
   ]
  },
  {
   "cell_type": "markdown",
   "metadata": {},
   "source": [
    "### Problem 3 - Using Bisection Search to Make the Program Faster\n",
    "\n",
    "You'll notice that in Problem 2, your monthly payment had to be a multiple of 10$.\n",
    "Why did we make it that way? You can try running your code locally so that the payment can be any dollar and cent amount (in other words, the monthly payment is a multiple of 0.01). Does your code still work? It should, but you may notice that your code runs more slowly, especially in cases with very large balances and interest rates. (Note: when your code is running on our servers, there are limits on the amount of computing time each submission is allowed, so your observations from running this experiment on the grading system might be limited to an error message complaining about too much time taken.)\n",
    "\n",
    "Well then, how can we calculate a more accurate fixed monthly payment than we did in Problem 2 without running into the problem of slow code? We can make this program run faster using a technique introduced in lecture - bisection search!\n",
    "\n",
    "The following variables contain values as described below:\n",
    "\n",
    "- balance - the outstanding balance on the credit card\n",
    "- mannualInterestRate - annual interest rate as a decimal\n",
    "\n",
    "To recap the problem: we are searching for the smallest monthly payment such that we can pay off the entire balance within a year. What is a reasonable lower bound for this payment value? $0 is the obvious anwer, but you can do better than that. If there was no interest, the debt can be paid off by monthly payments of one-twelfth of the original balance, so we must pay at least this much every month. One-twelfth of the original balance is a good lower bound.\n",
    "\n",
    "What is a good upper bound? Imagine that instead of paying monthly, we paid off the entire balance at the end of the year. What we ultimately pay must be greater than what we would've paid in monthly installments, because the interest was compounded on the balance we didn't pay off each month. So a good upper bound for the monthly payment would be one-twelfth of the balance, after having its interest compounded monthly for an entire year.\n",
    "\n",
    "In short:\n",
    "\n",
    "- Monthly interest rate = (Annual interest rate) / 12.0\n",
    "- Monthly payment lower bound = Balance / 12\n",
    "- Monthly payment upper bound = (Balance x (1 + Monthly interest rate)12) / 12.0\n",
    "\n",
    "Write a program that uses these bounds and bisection search (for more info check out the Wikipedia page on bisection search) to find the smallest monthly payment to the cent (no more multiples of 10$) such that we can pay off the debt within a year. Try it out with large inputs, and notice how fast it is (try the same large inputs in your solution to Problem 2 to compare!). Produce the same return value as you did in Problem 2.\n",
    "\n",
    "Note that if you do not use bisection search, your code will not run - your code only has 30 seconds to run on our servers.\n",
    "\n"
   ]
  },
  {
   "cell_type": "code",
   "execution_count": 20,
   "metadata": {},
   "outputs": [
    {
     "name": "stdout",
     "output_type": "stream",
     "text": [
      "Lowest Payment: 87.1\n"
     ]
    }
   ],
   "source": [
    "lo = balance/12\n",
    "hi = balance*(1 + annualInterestRate/12)**12/12\n",
    "guessed = False\n",
    "while not guessed:\n",
    "    mp = round((hi + lo)/2,2)\n",
    "    if hi - lo < 0.05:\n",
    "        break\n",
    "    balance2 = balance\n",
    "    for i in range(1,13):\n",
    "        balance2 = (balance2 - mp)+annualInterestRate/12*(balance2 - mp)\n",
    "    if balance2 < 0:\n",
    "        hi = mp\n",
    "    elif balance2 > 0:\n",
    "        lo = mp\n",
    "print('Lowest Payment: '+str(mp))"
   ]
  },
  {
   "cell_type": "code",
   "execution_count": null,
   "metadata": {
    "collapsed": true
   },
   "outputs": [],
   "source": []
  }
 ],
 "metadata": {
  "kernelspec": {
   "display_name": "Python 2",
   "language": "python",
   "name": "python2"
  },
  "language_info": {
   "codemirror_mode": {
    "name": "ipython",
    "version": 2
   },
   "file_extension": ".py",
   "mimetype": "text/x-python",
   "name": "python",
   "nbconvert_exporter": "python",
   "pygments_lexer": "ipython2",
   "version": "2.7.14"
  }
 },
 "nbformat": 4,
 "nbformat_minor": 2
}
