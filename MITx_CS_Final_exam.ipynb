{
 "cells": [
  {
   "cell_type": "code",
   "execution_count": 4,
   "metadata": {
    "collapsed": true
   },
   "outputs": [],
   "source": [
    "def McNuggets(n):\n",
    "    divide_6 = n//6\n",
    "    divide_9 = n//9\n",
    "    divide_20 = n//20\n",
    "    for a in range(divide_6 + 1):\n",
    "        for b in range(divide_9 + 1):\n",
    "            for c in range(divide_20 + 1):\n",
    "                if a*6 + b*9 + c*20 == n:\n",
    "                    return True\n",
    "    return False\n",
    "\n",
    "def McNuggets2(n):\n",
    "    \"\"\"\n",
    "    n is an int\n",
    "    Returns True if some integer combination of 6, 9 and 20 equals n\n",
    "    Otherwise returns False.\n",
    "    \"\"\"\n",
    "    # Your Code Here\n",
    "    if n == 0:\n",
    "        return True;\n",
    "    elif n < 0:\n",
    "        return False;\n",
    "    elif McNuggets(n - 20) or McNuggets(n - 9) or McNuggets(n - 6):\n",
    "        return True;\n",
    "    return False;"
   ]
  },
  {
   "cell_type": "code",
   "execution_count": null,
   "metadata": {
    "collapsed": true
   },
   "outputs": [],
   "source": [
    "def is_list_permutation(L1, L2):\n",
    "    '''\n",
    "    L1 and L2: lists containing integers and strings\n",
    "    Returns False if L1 and L2 are not permutations of each other. \n",
    "            If they are permutations of each other, returns a \n",
    "            tuple of 3 items in this order: \n",
    "            the element occurring most, how many times it occurs, and its type\n",
    "    '''\n",
    "    # Your code here\n",
    "    if len(L1) != len(L2):\n",
    "        return False\n",
    "    if len(L1) == 0 and len(L2) == 0:\n",
    "        return (None,None,None)\n",
    "    if len(L1) == len(L2):\n",
    "        dict_1 = {}\n",
    "        dict_2 = {}\n",
    "        for i in range(len(L1)):\n",
    "            dict_1[L1[i]] = dict_1.get(L1[i],0) + 1\n",
    "            dict_2[L2[i]] = dict_2.get(L2[i],0) + 1\n",
    "        #a = True\n",
    "        for i in dict_1:\n",
    "            if i in dict_2:\n",
    "                if dict_1[i] == dict_2[i]:\n",
    "                    pass\n",
    "                else:\n",
    "                    return False\n",
    "            else:\n",
    "                return False\n",
    "        max_value = max(dict_1.values())\n",
    "        for i in dict_1:\n",
    "            if dict_1[i] == max_value:\n",
    "                max_key = i\n",
    "        return (max_key,max_value,type(max_key))"
   ]
  },
  {
   "cell_type": "code",
   "execution_count": null,
   "metadata": {
    "collapsed": true
   },
   "outputs": [],
   "source": [
    "def uniqueValues(aDict):\n",
    "    '''\n",
    "    aDict: a dictionary\n",
    "    returns: a sorted list of keys that map to unique aDict values, empty list if none\n",
    "    '''\n",
    "    # Your code here\n",
    "    aDict_value = {}\n",
    "    result = []\n",
    "    for a in aDict:\n",
    "        aDict_value[aDict[a]] = aDict_value.get(aDict[a],0) + 1\n",
    "    for a in aDict:\n",
    "        if aDict_value[aDict[a]] == 1:\n",
    "            result.append(a)\n",
    "    result.sort()\n",
    "    return result"
   ]
  },
  {
   "cell_type": "code",
   "execution_count": null,
   "metadata": {
    "collapsed": true
   },
   "outputs": [],
   "source": [
    "class Person(object):     \n",
    "    def __init__(self, name):         \n",
    "        self.name = name     \n",
    "    def say(self, stuff):         \n",
    "        return self.name + ' says: ' + stuff     \n",
    "    def __str__(self):         \n",
    "        return self.name  \n",
    "\n",
    "class Lecturer(Person):     \n",
    "    def lecture(self, stuff):         \n",
    "        return 'I believe that ' + Person.say(self, stuff)  \n",
    "\n",
    "class Professor(Lecturer): \n",
    "    def say(self, stuff): \n",
    "        return self.name + ' says: ' + self.lecture(stuff)\n",
    "\n",
    "class ArrogantProfessor(Professor): \n",
    "    def lecture(self, stuff): \n",
    "        return 'It is obvious that ' + Person.say(self,stuff)"
   ]
  },
  {
   "cell_type": "code",
   "execution_count": null,
   "metadata": {
    "collapsed": true
   },
   "outputs": [],
   "source": [
    "class Container(object):\n",
    "    \"\"\" Holds hashable objects. Objects may occur 0 or more times \"\"\"\n",
    "    def __init__(self):\n",
    "        \"\"\" Creates a new container with no objects in it. I.e., any object \n",
    "            occurs 0 times in self. \"\"\"\n",
    "        self.vals = {}\n",
    "    def insert(self, e):\n",
    "        \"\"\" assumes e is hashable\n",
    "            Increases the number times e occurs in self by 1. \"\"\"\n",
    "        try:\n",
    "            self.vals[e] += 1\n",
    "        except:\n",
    "            self.vals[e] = 1\n",
    "    def __str__(self):\n",
    "        s = \"\"\n",
    "        for i in sorted(self.vals.keys()):\n",
    "            if self.vals[i] != 0:\n",
    "                s += str(i)+\":\"+str(self.vals[i])+\"\\n\"\n",
    "        return s\n",
    "    \n",
    "class Bag(Container):\n",
    "    def remove(self, e):\n",
    "        \"\"\" assumes e is hashable\n",
    "            If e occurs in self, reduces the number of \n",
    "            times it occurs in self by 1. Otherwise does nothing. \"\"\"\n",
    "        # write code here\n",
    "        try:\n",
    "            self.vals[e] -= 1\n",
    "        except:\n",
    "            pass\n",
    "    def count(self, e):\n",
    "        \"\"\" assumes e is hashable\n",
    "            Returns the number of times e occurs in self. \"\"\"\n",
    "        # write code here\n",
    "        if e in self.vals:\n",
    "            return self.vals[e]\n",
    "        else:\n",
    "            return 0"
   ]
  }
 ],
 "metadata": {
  "kernelspec": {
   "display_name": "Python 2",
   "language": "python",
   "name": "python2"
  },
  "language_info": {
   "codemirror_mode": {
    "name": "ipython",
    "version": 2
   },
   "file_extension": ".py",
   "mimetype": "text/x-python",
   "name": "python",
   "nbconvert_exporter": "python",
   "pygments_lexer": "ipython2",
   "version": "2.7.14"
  }
 },
 "nbformat": 4,
 "nbformat_minor": 2
}
