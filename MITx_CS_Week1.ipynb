{
 "cells": [
  {
   "cell_type": "markdown",
   "metadata": {},
   "source": [
    "### Problem 1\n",
    "\n",
    "Assume s is a string of lower case characters.\n",
    "Write a program that counts up the number of vowels contained in the string s. Valid vowels are: 'a', 'e', 'i', 'o', and 'u'. For example, if s = 'azcbobobegghakl', your program should print:\n",
    "- `Number of vowels: 5`"
   ]
  },
  {
   "cell_type": "code",
   "execution_count": 7,
   "metadata": {},
   "outputs": [
    {
     "name": "stdout",
     "output_type": "stream",
     "text": [
      "Write your string here: 'azcbobobegghakl'\n",
      "Number of vowels: 5\n"
     ]
    }
   ],
   "source": [
    "n = 0\n",
    "s = input('Write your string here: ')\n",
    "for letter in s:\n",
    "    if letter == 'i' or letter == 'o' or letter == 'a' or letter == 'u' or letter == 'e':\n",
    "        n += 1\n",
    "print('Number of vowels: ' + str(n))"
   ]
  },
  {
   "cell_type": "markdown",
   "metadata": {},
   "source": [
    "### Problem 2\n",
    "\n",
    "Assume s is a string of lower case characters.\n",
    "Write a program that prints the number of times the string 'bob' occurs in s. For example, if s = 'azcbobobegghakl', then your program should print:\n",
    "- `Number of times bob occurs is: 2`"
   ]
  },
  {
   "cell_type": "code",
   "execution_count": 8,
   "metadata": {},
   "outputs": [
    {
     "name": "stdout",
     "output_type": "stream",
     "text": [
      "Write your string here: 'bobbbibo'\n",
      "Number of times bob occurs is: 1\n"
     ]
    }
   ],
   "source": [
    "n = 0\n",
    "s = input('Write your string here: ')\n",
    "for i in range(len(s)-2):\n",
    "    if s[i] + s[i+1] + s[i+2] == 'bob':\n",
    "        n += 1\n",
    "print('Number of times bob occurs is: '+str(n))"
   ]
  },
  {
   "cell_type": "markdown",
   "metadata": {},
   "source": [
    "### Problem 3\n",
    "\n",
    "Assume s is a string of lower case characters.\n",
    "\n",
    "Write a program that prints the longest substring of s in which the letters occur in alphabetical order. For example, if s = 'azcbobobegghakl', then your program should print:\n",
    "\n",
    "- `Longest substring in alphabetical order is: beggh`\n",
    "\n",
    "In the case of ties, print the first substring. For example, if s = 'abcbcd', then your program should print\n",
    "\n",
    "- `Longest substring in alphabetical order is: abc`"
   ]
  },
  {
   "cell_type": "code",
   "execution_count": 10,
   "metadata": {},
   "outputs": [
    {
     "name": "stdout",
     "output_type": "stream",
     "text": [
      "Write your string here: 'hgavfjshdhfjksadh'\n",
      "s = hgavfjshdhfjksadh\n",
      "Longest substring in alphabetical order is: fjks\n"
     ]
    }
   ],
   "source": [
    "s = input('Write your string here: ')\n",
    "t = s[0]\n",
    "x = [s[0]]\n",
    "\n",
    "print(\"s = \" + s)\n",
    "# print(\"initial t = \" + t)\n",
    "\n",
    "def let_position(i):\n",
    "    x = 'abcdefghijklmnopqrstuvwxyz'\n",
    "    a = list(x)\n",
    "    for r in range(26):\n",
    "        if i == a[r]:\n",
    "            range_ = r\n",
    "    return(range_)\n",
    "    \n",
    "def max_str(z):\n",
    "    r = []\n",
    "    y = ''\n",
    "    for i in range(len(z)):\n",
    "        r.append(len(z[i]))\n",
    "    for i in range(len(z)):\n",
    "        if len(z[i]) == max(r):\n",
    "            y = z[i]\n",
    "            break\n",
    "    return(y)\n",
    "        \n",
    "        \n",
    "for i in range(len(s)-1):\n",
    "    #print(\"Time \" + str(i))\n",
    "    if let_position(s[i]) <= let_position(s[i + 1]):\n",
    "        t = t + s[i + 1]\n",
    "        #print(t)\n",
    "    else:\n",
    "        t = s[i + 1]\n",
    "        #print(t)\n",
    "    x.append(t)\n",
    "print(\"Longest substring in alphabetical order is: \" + max_str(x))\n"
   ]
  }
 ],
 "metadata": {
  "kernelspec": {
   "display_name": "Python 2",
   "language": "python",
   "name": "python2"
  },
  "language_info": {
   "codemirror_mode": {
    "name": "ipython",
    "version": 2
   },
   "file_extension": ".py",
   "mimetype": "text/x-python",
   "name": "python",
   "nbconvert_exporter": "python",
   "pygments_lexer": "ipython2",
   "version": "2.7.14"
  }
 },
 "nbformat": 4,
 "nbformat_minor": 2
}
